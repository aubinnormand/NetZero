{
 "cells": [
  {
   "cell_type": "code",
   "execution_count": 10,
   "id": "1e7bca38-738e-4ffa-b5f1-ae4753bbd722",
   "metadata": {},
   "outputs": [],
   "source": [
    "import subprocess\n",
    "import os\n",
    "from pathlib import Path\n",
    "import ipynbname\n",
    "import webbrowser\n",
    "\n",
    "import subprocess\n",
    "from pathlib import Path\n",
    "import ipynbname\n",
    "\n",
    "# Chemin du dépôt\n",
    "repo_path = ipynbname.path().parent.parent.parent\n",
    "\n",
    "def git_status():\n",
    "    \"\"\"Affiche l'état du repo.\"\"\"\n",
    "    result = subprocess.run([\"git\", \"status\", \"--short\"], cwd=repo_path, capture_output=True, text=True)\n",
    "    if result.stdout.strip():\n",
    "        print(\"⚠️ Modifications locales détectées :\")\n",
    "        print(result.stdout)\n",
    "    else:\n",
    "        print(\"✅ Pas de modifications locales.\")\n",
    "\n",
    "def git_update_with_confirmation():\n",
    "    \"\"\"Force la mise à jour depuis GitHub avec confirmation si des changements locaux existent.\"\"\"\n",
    "    git_status()\n",
    "    \n",
    "    answer = input(\"Voulez-vous écraser vos modifications locales et récupérer exactement la version GitHub ? [y/N] \").lower()\n",
    "    if answer == 'y':\n",
    "        # Récupérer la dernière version distante\n",
    "        subprocess.run([\"git\", \"fetch\", \"origin\"], cwd=repo_path)\n",
    "        # Forcer la version locale à correspondre au remote\n",
    "        subprocess.run([\"git\", \"reset\", \"--hard\", \"origin/main\"], cwd=repo_path)\n",
    "        print(\"✅ Repo mis à jour avec la version GitHub. Toutes les modifications locales ont été écrasées.\")\n",
    "    else:\n",
    "        print(\"ℹ️ Opération annulée. Vos modifications locales sont conservées.\")\n",
    "\n",
    "def git_add_commit_push(message=\"Mise à jour automatique du projet\"):\n",
    "    \"\"\"Ajoute, commit et push les modifications locales.\"\"\"\n",
    "    repo_path_local = Path(subprocess.run(\n",
    "        [\"git\", \"rev-parse\", \"--show-toplevel\"], \n",
    "        capture_output=True, text=True\n",
    "    ).stdout.strip())\n",
    "\n",
    "    subprocess.run([\"git\", \"add\", \"-A\"], cwd=repo_path_local, check=True)\n",
    "    subprocess.run([\"git\", \"rm\", \"-r\", \"--cached\", \".ipynb_checkpoints\"], cwd=repo_path_local, stderr=subprocess.DEVNULL)\n",
    "    \n",
    "    result = subprocess.run([\"git\", \"status\", \"--porcelain\"], cwd=repo_path_local, capture_output=True, text=True)\n",
    "    if result.stdout.strip():\n",
    "        subprocess.run([\"git\", \"commit\", \"-m\", message], cwd=repo_path_local, check=True)\n",
    "        subprocess.run([\"git\", \"push\", \"-u\", \"origin\", \"main\"], cwd=repo_path_local, check=True)\n",
    "        print(\"✅ Modifications commit et push réussis.\")\n",
    "    else:\n",
    "        print(\"ℹ️ Aucun changement à committer.\")\n",
    "\n",
    "\n"
   ]
  },
  {
   "cell_type": "code",
   "execution_count": 2,
   "id": "ca70f01b-c397-4d5d-9301-8cf6b48cb9f1",
   "metadata": {},
   "outputs": [
    {
     "data": {
      "text/plain": [
       "WindowsPath('C:/Users/Aubin/Documents/NetZero')"
      ]
     },
     "execution_count": 2,
     "metadata": {},
     "output_type": "execute_result"
    }
   ],
   "source": [
    "repo_path"
   ]
  },
  {
   "cell_type": "code",
   "execution_count": 11,
   "id": "a8ced2de-3074-4b61-a5fd-7ba941f4e012",
   "metadata": {},
   "outputs": [
    {
     "name": "stdout",
     "output_type": "stream",
     "text": [
      "⚠️ Modifications locales détectées :\n",
      " M Code/notebooks/03_analyse_et_visualisation.ipynb\n",
      " M Code/notebooks/Git_Workflow_NetZero.ipynb\n",
      "?? Code/notebooks/old/\n",
      "?? Code/scripts/data_utils_old.py\n",
      "\n"
     ]
    },
    {
     "name": "stdin",
     "output_type": "stream",
     "text": [
      "Voulez-vous écraser vos modifications locales et récupérer exactement la version GitHub ? [y/N]  y\n"
     ]
    },
    {
     "name": "stdout",
     "output_type": "stream",
     "text": [
      "✅ Repo mis à jour avec la version GitHub. Toutes les modifications locales ont été écrasées.\n"
     ]
    }
   ],
   "source": [
    "git_update_with_confirmation()\n",
    "\n"
   ]
  },
  {
   "cell_type": "code",
   "execution_count": 40,
   "id": "d3da717b-08f2-4a69-9e36-3a2aad1a94e2",
   "metadata": {},
   "outputs": [
    {
     "name": "stdout",
     "output_type": "stream",
     "text": [
      "ℹ️ Aucun changement à committer.\n"
     ]
    }
   ],
   "source": [
    "git_add_commit_push(\"MAJ Workflow\")  # pousser tes modifications\n"
   ]
  },
  {
   "cell_type": "code",
   "execution_count": 8,
   "id": "46f6d612-ae4c-4c61-853a-71b57917c287",
   "metadata": {},
   "outputs": [
    {
     "name": "stdout",
     "output_type": "stream",
     "text": [
      "On branch main\n",
      "Your branch is behind 'origin/main' by 2 commits, and can be fast-forwarded.\n",
      "  (use \"git pull\" to update your local branch)\n",
      "\n",
      "Changes not staged for commit:\n",
      "  (use \"git add <file>...\" to update what will be committed)\n",
      "  (use \"git restore <file>...\" to discard changes in working directory)\n",
      "\tmodified:   03_analyse_et_visualisation.ipynb\n",
      "\tmodified:   Git_Workflow_NetZero.ipynb\n",
      "\n",
      "Untracked files:\n",
      "  (use \"git add <file>...\" to include in what will be committed)\n",
      "\told/\n",
      "\t../scripts/data_utils_old.py\n",
      "\n",
      "no changes added to commit (use \"git add\" and/or \"git commit -a\")\n"
     ]
    }
   ],
   "source": [
    "!git status\n"
   ]
  },
  {
   "cell_type": "code",
   "execution_count": 9,
   "id": "25b19898-c86e-474a-9ca8-93786f2e3da4",
   "metadata": {},
   "outputs": [
    {
     "data": {
      "text/plain": [
       "True"
      ]
     },
     "execution_count": 9,
     "metadata": {},
     "output_type": "execute_result"
    }
   ],
   "source": [
    "webbrowser.open(\"https://github.com/aubinnormand/NetZero\")"
   ]
  }
 ],
 "metadata": {
  "kernelspec": {
   "display_name": "Python 3 (ipykernel)",
   "language": "python",
   "name": "python3"
  },
  "language_info": {
   "codemirror_mode": {
    "name": "ipython",
    "version": 3
   },
   "file_extension": ".py",
   "mimetype": "text/x-python",
   "name": "python",
   "nbconvert_exporter": "python",
   "pygments_lexer": "ipython3",
   "version": "3.13.9"
  }
 },
 "nbformat": 4,
 "nbformat_minor": 5
}
