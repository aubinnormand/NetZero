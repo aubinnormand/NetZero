{
 "cells": [
  {
   "cell_type": "code",
   "execution_count": 25,
   "id": "1e7bca38-738e-4ffa-b5f1-ae4753bbd722",
   "metadata": {},
   "outputs": [],
   "source": [
    "import subprocess\n",
    "import os\n",
    "from pathlib import Path\n",
    "import ipynbname\n",
    "import webbrowser\n",
    "\n",
    "# Définir le chemin du dépôt (racine du projet)\n",
    "repo_path = ipynbname.path().parent.parent.parent\n",
    "\n",
    "# Fonction pour pull\n",
    "def git_pull():\n",
    "    subprocess.run([\"git\", \"pull\", \"origin\", \"main\", \"--allow-unrelated-histories\"], cwd=repo_path)\n",
    "\n",
    "# Fonction pour update depuis le remote\n",
    "def git_update_from_remote():\n",
    "    subprocess.run([\"git\", \"fetch\", \"origin\"], cwd=repo_path)\n",
    "    subprocess.run([\"git\", \"reset\", \"--hard\", \"origin/main\"], cwd=repo_path)\n",
    "\n",
    "def git_add_commit_push(message=\"Mise à jour automatique du projet\"):\n",
    "    repo_path = Path(subprocess.run(\n",
    "        [\"git\", \"rev-parse\", \"--show-toplevel\"], \n",
    "        capture_output=True, text=True\n",
    "    ).stdout.strip())\n",
    "\n",
    "    subprocess.run([\"git\", \"add\", \"-A\"], cwd=repo_path, check=True)\n",
    "    subprocess.run([\"git\", \"rm\", \"-r\", \"--cached\", \".ipynb_checkpoints\"], cwd=repo_path, stderr=subprocess.DEVNULL)\n",
    "    \n",
    "    result = subprocess.run([\"git\", \"status\", \"--porcelain\"], cwd=repo_path, capture_output=True, text=True)\n",
    "    if result.stdout.strip():\n",
    "        subprocess.run([\"git\", \"commit\", \"-m\", message], cwd=repo_path, check=True)\n",
    "        subprocess.run([\"git\", \"push\", \"-u\", \"origin\", \"main\"], cwd=repo_path, check=True)\n",
    "        print(\"✅ Modifications commit et push réussis.\")\n",
    "    else:\n",
    "        print(\"ℹ️ Aucun changement à committer.\")\n",
    "\n"
   ]
  },
  {
   "cell_type": "code",
   "execution_count": 34,
   "id": "ca70f01b-c397-4d5d-9301-8cf6b48cb9f1",
   "metadata": {},
   "outputs": [
    {
     "data": {
      "text/plain": [
       "WindowsPath('C:/Users/Aubin/Documents/NetZero')"
      ]
     },
     "execution_count": 34,
     "metadata": {},
     "output_type": "execute_result"
    }
   ],
   "source": [
    "repo_path"
   ]
  },
  {
   "cell_type": "code",
   "execution_count": 4,
   "id": "a8ced2de-3074-4b61-a5fd-7ba941f4e012",
   "metadata": {},
   "outputs": [],
   "source": [
    "git_pull()  # récupérer les dernières modifications\n"
   ]
  },
  {
   "cell_type": "code",
   "execution_count": 29,
   "id": "b0169182-d8a1-4988-abd5-3f5bd0547fff",
   "metadata": {},
   "outputs": [
    {
     "name": "stderr",
     "output_type": "stream",
     "text": [
      "warning: in the working copy of 'Code/notebooks/Git_Workflow_NetZero.ipynb', LF will be replaced by CRLF the next time Git touches it\n"
     ]
    },
    {
     "name": "stdout",
     "output_type": "stream",
     "text": [
      "[main f3d6170] Mise Ã  jour du notebook\n",
      " 1 file changed, 4 insertions(+), 4 deletions(-)\n"
     ]
    }
   ],
   "source": [
    "!git add Git_Workflow_NetZero.ipynb\n",
    "!git commit -m \"Mise à jour du notebook\"\n",
    "\n"
   ]
  },
  {
   "cell_type": "code",
   "execution_count": 30,
   "id": "d3da717b-08f2-4a69-9e36-3a2aad1a94e2",
   "metadata": {},
   "outputs": [
    {
     "name": "stdout",
     "output_type": "stream",
     "text": [
      "ℹ️ Aucun changement à committer.\n"
     ]
    }
   ],
   "source": [
    "git_add_commit_push(\"Mise à jour 29/10/25\")  # pousser tes modifications\n"
   ]
  },
  {
   "cell_type": "code",
   "execution_count": 31,
   "id": "46f6d612-ae4c-4c61-853a-71b57917c287",
   "metadata": {},
   "outputs": [
    {
     "name": "stdout",
     "output_type": "stream",
     "text": [
      "On branch main\n",
      "Your branch is ahead of 'origin/main' by 9 commits.\n",
      "  (use \"git push\" to publish your local commits)\n",
      "\n",
      "nothing to commit, working tree clean\n"
     ]
    }
   ],
   "source": [
    "!git status\n"
   ]
  },
  {
   "cell_type": "code",
   "execution_count": 6,
   "id": "25b19898-c86e-474a-9ca8-93786f2e3da4",
   "metadata": {},
   "outputs": [
    {
     "data": {
      "text/plain": [
       "True"
      ]
     },
     "execution_count": 6,
     "metadata": {},
     "output_type": "execute_result"
    }
   ],
   "source": [
    "webbrowser.open(\"https://github.com/aubinnormand/NetZero\")"
   ]
  },
  {
   "cell_type": "code",
   "execution_count": 35,
   "id": "a7030ed4-aa3f-4845-9ff7-7351210ff70b",
   "metadata": {},
   "outputs": [
    {
     "name": "stdout",
     "output_type": "stream",
     "text": [
      "STDOUT:\n",
      " \n",
      "STDERR:\n",
      " remote: error: Trace: 4ff68de48778b5304747481e02f7d23c206df604ee9b45e6690661421119ffb8        \n",
      "remote: error: See https://gh.io/lfs for more information.        \n",
      "remote: error: File Code/map_LULUCF_slider.html is 106.94 MB; this exceeds GitHub's file size limit of 100.00 MB        \n",
      "remote: error: File Code/notebooks/map_LULUCF_slider.html is 106.94 MB; this exceeds GitHub's file size limit of 100.00 MB        \n",
      "remote: error: GH001: Large files detected. You may want to try Git Large File Storage - https://git-lfs.github.com.        \n",
      "To https://github.com/aubinnormand/NetZero.git\n",
      " ! [remote rejected] main -> main (pre-receive hook declined)\n",
      "error: failed to push some refs to 'https://github.com/aubinnormand/NetZero.git'\n",
      "\n",
      "Return code: 1\n"
     ]
    }
   ],
   "source": [
    "import subprocess\n",
    "from pathlib import Path\n",
    "\n",
    "repo_path = Path(subprocess.run(\n",
    "    [\"git\", \"rev-parse\", \"--show-toplevel\"], \n",
    "    capture_output=True, text=True\n",
    ").stdout.strip())\n",
    "\n",
    "result = subprocess.run(\n",
    "    [\"git\", \"push\", \"-u\", \"origin\", \"main\"],\n",
    "    cwd=repo_path,\n",
    "    capture_output=True,\n",
    "    text=True\n",
    ")\n",
    "\n",
    "print(\"STDOUT:\\n\", result.stdout)\n",
    "print(\"STDERR:\\n\", result.stderr)\n",
    "print(\"Return code:\", result.returncode)\n"
   ]
  },
  {
   "cell_type": "code",
   "execution_count": 33,
   "id": "f4842eec-65bc-4ca6-b9ee-17d382b5d969",
   "metadata": {},
   "outputs": [
    {
     "name": "stderr",
     "output_type": "stream",
     "text": [
      "remote: error: Trace: fc8efe0da1ab8296f1b99a4ac8fea77de2f14f374cdec1d90d695417ca98c947        \n",
      "remote: error: See https://gh.io/lfs for more information.        \n",
      "remote: error: File Code/notebooks/map_LULUCF_slider.html is 106.94 MB; this exceeds GitHub's file size limit of 100.00 MB        \n",
      "remote: error: File Code/map_LULUCF_slider.html is 106.94 MB; this exceeds GitHub's file size limit of 100.00 MB        \n",
      "remote: error: GH001: Large files detected. You may want to try Git Large File Storage - https://git-lfs.github.com.        \n",
      "To https://github.com/aubinnormand/NetZero.git\n",
      " ! [remote rejected] main -> main (pre-receive hook declined)\n",
      "error: failed to push some refs to 'https://github.com/aubinnormand/NetZero.git'\n"
     ]
    }
   ],
   "source": [
    "!git push --force origin main\n"
   ]
  }
 ],
 "metadata": {
  "kernelspec": {
   "display_name": "Python 3 (ipykernel)",
   "language": "python",
   "name": "python3"
  },
  "language_info": {
   "codemirror_mode": {
    "name": "ipython",
    "version": 3
   },
   "file_extension": ".py",
   "mimetype": "text/x-python",
   "name": "python",
   "nbconvert_exporter": "python",
   "pygments_lexer": "ipython3",
   "version": "3.13.7"
  }
 },
 "nbformat": 4,
 "nbformat_minor": 5
}
