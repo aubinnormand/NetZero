{
 "cells": [
  {
   "cell_type": "code",
   "execution_count": 43,
   "id": "1e7bca38-738e-4ffa-b5f1-ae4753bbd722",
   "metadata": {},
   "outputs": [],
   "source": [
    "import subprocess\n",
    "import os\n",
    "from pathlib import Path\n",
    "import ipynbname\n",
    "import webbrowser\n",
    "\n",
    "# Définir le chemin du dépôt (racine du projet)\n",
    "repo_path = ipynbname.path().parent.parent.parent\n",
    "\n",
    "# Fonction pour pull\n",
    "def git_pull():\n",
    "    subprocess.run([\"git\", \"pull\", \"origin\", \"main\", \"--allow-unrelated-histories\"], cwd=repo_path)\n",
    "\n",
    "import subprocess\n",
    "from pathlib import Path\n",
    "import ipynbname\n",
    "\n",
    "# Chemin du dépôt\n",
    "repo_path = ipynbname.path().parent.parent.parent\n",
    "\n",
    "def git_status():\n",
    "    \"\"\"Affiche l'état du repo.\"\"\"\n",
    "    result = subprocess.run([\"git\", \"status\", \"--short\"], cwd=repo_path, capture_output=True, text=True)\n",
    "    if result.stdout.strip():\n",
    "        print(\"⚠️ Modifications locales détectées :\")\n",
    "        print(result.stdout)\n",
    "    else:\n",
    "        print(\"✅ Pas de modifications locales.\")\n",
    "\n",
    "def git_update_with_confirmation():\n",
    "    \"\"\"Force la mise à jour depuis GitHub avec confirmation si des changements locaux existent.\"\"\"\n",
    "    git_status()\n",
    "    \n",
    "    answer = input(\"Voulez-vous écraser vos modifications locales et récupérer exactement la version GitHub ? [y/N] \").lower()\n",
    "    if answer == 'y':\n",
    "        # Récupérer la dernière version distante\n",
    "        subprocess.run([\"git\", \"fetch\", \"origin\"], cwd=repo_path)\n",
    "        # Forcer la version locale à correspondre au remote\n",
    "        subprocess.run([\"git\", \"reset\", \"--hard\", \"origin/main\"], cwd=repo_path)\n",
    "        print(\"✅ Repo mis à jour avec la version GitHub. Toutes les modifications locales ont été écrasées.\")\n",
    "    else:\n",
    "        print(\"ℹ️ Opération annulée. Vos modifications locales sont conservées.\")\n",
    "\n",
    "def git_add_commit_push(message=\"Mise à jour automatique du projet\"):\n",
    "    \"\"\"Ajoute, commit et push les modifications locales.\"\"\"\n",
    "    repo_path_local = Path(subprocess.run(\n",
    "        [\"git\", \"rev-parse\", \"--show-toplevel\"], \n",
    "        capture_output=True, text=True\n",
    "    ).stdout.strip())\n",
    "\n",
    "    subprocess.run([\"git\", \"add\", \"-A\"], cwd=repo_path_local, check=True)\n",
    "    subprocess.run([\"git\", \"rm\", \"-r\", \"--cached\", \".ipynb_checkpoints\"], cwd=repo_path_local, stderr=subprocess.DEVNULL)\n",
    "    \n",
    "    result = subprocess.run([\"git\", \"status\", \"--porcelain\"], cwd=repo_path_local, capture_output=True, text=True)\n",
    "    if result.stdout.strip():\n",
    "        subprocess.run([\"git\", \"commit\", \"-m\", message], cwd=repo_path_local, check=True)\n",
    "        subprocess.run([\"git\", \"push\", \"-u\", \"origin\", \"main\"], cwd=repo_path_local, check=True)\n",
    "        print(\"✅ Modifications commit et push réussis.\")\n",
    "    else:\n",
    "        print(\"ℹ️ Aucun changement à committer.\")\n",
    "\n",
    "\n"
   ]
  },
  {
   "cell_type": "code",
   "execution_count": 34,
   "id": "ca70f01b-c397-4d5d-9301-8cf6b48cb9f1",
   "metadata": {},
   "outputs": [
    {
     "data": {
      "text/plain": [
       "WindowsPath('C:/Users/Aubin/Documents/NetZero')"
      ]
     },
     "execution_count": 34,
     "metadata": {},
     "output_type": "execute_result"
    }
   ],
   "source": [
    "repo_path"
   ]
  },
  {
   "cell_type": "code",
   "execution_count": 4,
   "id": "a8ced2de-3074-4b61-a5fd-7ba941f4e012",
   "metadata": {},
   "outputs": [],
   "source": [
    "git_update_with_confirmation()"
   ]
  },
  {
   "cell_type": "code",
   "execution_count": 44,
   "id": "d3da717b-08f2-4a69-9e36-3a2aad1a94e2",
   "metadata": {},
   "outputs": [
    {
     "name": "stdout",
     "output_type": "stream",
     "text": [
      "✅ Modifications commit et push réussis.\n"
     ]
    }
   ],
   "source": [
    "git_add_commit_push(\"MAJ Workflow pull\")"
   ]
  },
  {
   "cell_type": "code",
   "execution_count": 45,
   "id": "46f6d612-ae4c-4c61-853a-71b57917c287",
   "metadata": {},
   "outputs": [
    {
     "name": "stdout",
     "output_type": "stream",
     "text": [
      "On branch main\n",
      "Your branch is up to date with 'origin/main'.\n",
      "\n",
      "nothing to commit, working tree clean\n"
     ]
    }
   ],
   "source": [
    "!git status\n"
   ]
  },
  {
   "cell_type": "code",
   "execution_count": 42,
   "id": "25b19898-c86e-474a-9ca8-93786f2e3da4",
   "metadata": {},
   "outputs": [
    {
     "data": {
      "text/plain": [
       "True"
      ]
     },
     "execution_count": 42,
     "metadata": {},
     "output_type": "execute_result"
    }
   ],
   "source": [
    "webbrowser.open(\"https://github.com/aubinnormand/NetZero\")"
   ]
  }
 ],
 "metadata": {
  "kernelspec": {
   "display_name": "Python 3 (ipykernel)",
   "language": "python",
   "name": "python3"
  },
  "language_info": {
   "codemirror_mode": {
    "name": "ipython",
    "version": 3
   },
   "file_extension": ".py",
   "mimetype": "text/x-python",
   "name": "python",
   "nbconvert_exporter": "python",
   "pygments_lexer": "ipython3",
   "version": "3.13.7"
  }
 },
 "nbformat": 4,
 "nbformat_minor": 5
}
